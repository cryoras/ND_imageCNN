{
  "nbformat": 4,
  "nbformat_minor": 0,
  "metadata": {
    "colab": {
      "provenance": [],
      "gpuType": "T4"
    },
    "kernelspec": {
      "name": "python3",
      "display_name": "Python 3"
    },
    "language_info": {
      "name": "python"
    },
    "accelerator": "GPU"
  },
  "cells": [
    {
      "cell_type": "markdown",
      "source": [
        "# preparation"
      ],
      "metadata": {
        "id": "bZ1k-odTMD9V"
      }
    },
    {
      "cell_type": "code",
      "source": [
        "!pip install bing-image-downloader"
      ],
      "metadata": {
        "id": "ue5esMSSm8GQ",
        "outputId": "71b5ddb4-5245-49f5-f0d0-e75775310e68",
        "colab": {
          "base_uri": "https://localhost:8080/"
        }
      },
      "execution_count": null,
      "outputs": [
        {
          "output_type": "stream",
          "name": "stdout",
          "text": [
            "Collecting bing-image-downloader\n",
            "  Downloading bing_image_downloader-1.1.2-py3-none-any.whl.metadata (2.8 kB)\n",
            "Downloading bing_image_downloader-1.1.2-py3-none-any.whl (5.9 kB)\n",
            "Installing collected packages: bing-image-downloader\n",
            "Successfully installed bing-image-downloader-1.1.2\n"
          ]
        }
      ]
    },
    {
      "cell_type": "code",
      "source": [
        "!mkdir Dataset"
      ],
      "metadata": {
        "id": "Mks_S-7-1sRQ"
      },
      "execution_count": null,
      "outputs": []
    },
    {
      "cell_type": "code",
      "source": [
        "from bing_image_downloader import downloader as dl\n",
        "\n",
        "nd = [\"Gambar Banjir\",\"Gambar Gempa Bumi\",\"Gambar Tsunami\",\"Gambar tanah longsor\"]\n",
        "dl.download(nd[0],limit=500,output_dir='Dataset')\n",
        "dl.download(nd[1],limit=500,output_dir='Dataset')\n",
        "dl.download(nd[2],limit=500,output_dir='Dataset')\n",
        "dl.download(nd[3],limit=500,output_dir='Dataset')"
      ],
      "metadata": {
        "id": "ZHZLnWUdM-H5"
      },
      "execution_count": null,
      "outputs": []
    },
    {
      "cell_type": "code",
      "source": [
        "dl.download(nd[1],limit=1000,output_dir='Dataset')\n"
      ],
      "metadata": {
        "id": "LNXaCRvekPph"
      },
      "execution_count": null,
      "outputs": []
    },
    {
      "cell_type": "code",
      "source": [
        "dl.download(nd[2],limit=1000,output_dir='Dataset')\n"
      ],
      "metadata": {
        "id": "tzKtVc1akS1u"
      },
      "execution_count": null,
      "outputs": []
    },
    {
      "cell_type": "code",
      "source": [
        "dl.download(nd[3],limit=1000,output_dir='Dataset')\n"
      ],
      "metadata": {
        "id": "kgYoEvHDkUJj"
      },
      "execution_count": null,
      "outputs": []
    },
    {
      "cell_type": "markdown",
      "source": [
        "# Model Building"
      ],
      "metadata": {
        "id": "1qnDtOABqPWL"
      }
    },
    {
      "cell_type": "markdown",
      "source": [
        "## lib"
      ],
      "metadata": {
        "id": "xkQRs2YfMKsD"
      }
    },
    {
      "cell_type": "code",
      "source": [
        "# common lib\n",
        "import os , shutil\n",
        "import zipfile\n",
        "import random\n",
        "import pathlib\n",
        "import numpy as np\n",
        "import pandas as pd\n",
        "import warnings\n",
        "import matplotlib.pyplot as plt\n",
        "import seaborn as sns\n",
        "from random import sample\n",
        "from shutil import copyfile\n",
        "from pathlib import Path\n",
        "from tqdm.notebook import tqdm as tq\n",
        "warnings.simplefilter(action='ignore', category=FutureWarning)\n",
        "from google.colab import files\n",
        "\n",
        "# image lib\n",
        "import cv2\n",
        "import skimage\n",
        "from PIL import Image\n",
        "from skimage import io\n",
        "from skimage.transform import resize\n",
        "from skimage.transform import rotate, AffineTransform, warp\n",
        "from skimage import img_as_ubyte\n",
        "from skimage.exposure import adjust_gamma\n",
        "from skimage.util import random_noise\n",
        "\n",
        "# model creation\n",
        "import keras\n",
        "import tensorflow as tf\n",
        "from sklearn.model_selection import train_test_split\n",
        "from sklearn.metrics import confusion_matrix, classification_report\n",
        "from tensorflow.keras import Model, layers\n",
        "from tensorflow.keras.preprocessing import image\n",
        "from tensorflow.keras.preprocessing.image import ImageDataGenerator, img_to_array, load_img\n",
        "from tensorflow.keras.optimizers import Adam, RMSprop, SGD\n",
        "from tensorflow.keras.layers import InputLayer, Conv2D, SeparableConv2D, MaxPooling2D, MaxPool2D, Dense, Flatten, Dropout, BatchNormalization\n",
        "from tensorflow.keras.models import Sequential, Model\n",
        "from tensorflow.keras.applications import MobileNet\n",
        "from tensorflow.keras.applications.densenet import DenseNet121\n",
        "from tensorflow.keras.utils import to_categorical\n",
        "from tensorflow.keras.callbacks import ModelCheckpoint, Callback, EarlyStopping, ReduceLROnPlateau\n",
        "from tensorflow.keras.models import load_model\n"
      ],
      "metadata": {
        "id": "IHc1IVJpqSAs"
      },
      "execution_count": 11,
      "outputs": []
    },
    {
      "cell_type": "markdown",
      "source": [
        "## starting"
      ],
      "metadata": {
        "id": "-a41DDbkMOXd"
      }
    },
    {
      "cell_type": "code",
      "source": [],
      "metadata": {
        "id": "hBE16W5WMNLk"
      },
      "execution_count": null,
      "outputs": []
    }
  ]
}